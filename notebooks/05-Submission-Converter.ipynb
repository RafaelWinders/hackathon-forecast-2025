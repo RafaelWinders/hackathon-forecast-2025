{
 "cells": [
  {
   "cell_type": "markdown",
   "metadata": {},
   "source": [
    "# 05 - Conversor e Filtro para Submissão Final\n",
    "\n",
    "**🎯 Objetivo deste Notebook:**\n",
    "\n",
    "Este notebook serve como um passo final e documentado para formatar o arquivo de previsão gerado pelo `04-Final-Pipeline.ipynb`. Sua principal função é ler o arquivo Parquet completo, que contém previsões para todas as combinações de PDV/SKU (incluindo previsões de venda zero), e convertê-lo para o formato final exigido pela plataforma do Hackathon.\n",
    "\n",
    "**✅ Processo de Conversão:**\n",
    "\n",
    "1.  **Carregar Previsões:** Lê o arquivo `submission.parquet` da pasta `/submissions`, que contém o output completo do modelo.\n",
    "2.  **Filtrar Vendas Zero:** Remove todas as linhas onde a coluna `quantidade` é igual a 0. Esta é uma exigência da plataforma, que limita o número de linhas do arquivo de submissão.\n",
    "3.  **Renomear Colunas (Validação):** Garante que os nomes das colunas (`semana`, `pdv`, `produto`, `quantidade`) estão exatamente como o especificado no regulamento.\n",
    "4.  **Salvar em CSV e Parquet:** Exporta o `DataFrame` filtrado para os arquivos finais (`submission_final.csv` e `submission_final.parquet`) prontos para o upload."
   ]
  },
  {
   "cell_type": "code",
   "execution_count": 4,
   "metadata": {},
   "outputs": [
    {
     "name": "stdout",
     "output_type": "stream",
     "text": [
      "📚 Bibliotecas carregadas com sucesso!\n"
     ]
    }
   ],
   "source": [
    "import pandas as pd\n",
    "import os\n",
    "\n",
    "print('📚 Bibliotecas carregadas com sucesso!')"
   ]
  },
  {
   "cell_type": "markdown",
   "metadata": {},
   "source": [
    "## 1. Definir Caminhos dos Arquivos"
   ]
  },
  {
   "cell_type": "code",
   "execution_count": 5,
   "id": "6966610d",
   "metadata": {},
   "outputs": [
    {
     "name": "stdout",
     "output_type": "stream",
     "text": [
      "Arquivo de entrada: ../submissions/submission.parquet\n",
      "Arquivo de saída CSV: ../submissions/submission_final.csv\n",
      "Arquivo de saída Parquet: ../submissions/submission_final.parquet\n"
     ]
    }
   ],
   "source": [
    "# Caminho para o arquivo de entrada gerado pelo pipeline 04\n",
    "input_parquet_path = '../submissions/submission.parquet'\n",
    "\n",
    "# Caminhos para os arquivos de saída finais que serão submetidos\n",
    "output_csv_path = '../submissions/submission_final.csv'\n",
    "output_parquet_path = '../submissions/submission_final.parquet'\n",
    "\n",
    "print(f\"Arquivo de entrada: {input_parquet_path}\")\n",
    "print(f\"Arquivo de saída CSV: {output_csv_path}\")\n",
    "print(f\"Arquivo de saída Parquet: {output_parquet_path}\")"
   ]
  },
  {
   "cell_type": "markdown",
   "id": "07c61f7f",
   "metadata": {},
   "source": [
    "## 2. Carregar e Processar o Arquivo de Previsão"
   ]
  },
  {
   "cell_type": "code",
   "execution_count": 6,
   "id": "f6b18e3c",
   "metadata": {},
   "outputs": [
    {
     "name": "stdout",
     "output_type": "stream",
     "text": [
      "🔄 Carregando o arquivo Parquet de previsões completas...\n",
      "✅ Arquivo carregado com sucesso. Shape original: (5221550, 4)\n",
      "\n",
      "🔧 Filtrando para manter apenas previsões com 'quantidade' > 0...\n",
      "   • Linhas removidas: 4,954,865\n",
      "   • Shape final: (266685, 4)\n",
      "\n",
      "✔️ Validando e ajustando os tipos de dados para inteiros...\n",
      "\n",
      "💾 Salvando arquivos finais...\n",
      "   • Arquivo CSV salvo em '../submissions/submission_final.csv'\n",
      "   • Arquivo Parquet salvo em '../submissions/submission_final.parquet'\n",
      "\n",
      "🎉 Processo concluído! Os arquivos estão prontos para serem enviados.\n",
      "\n",
      "👀 Preview do DataFrame final:\n"
     ]
    },
    {
     "data": {
      "text/html": [
       "<div>\n",
       "<style scoped>\n",
       "    .dataframe tbody tr th:only-of-type {\n",
       "        vertical-align: middle;\n",
       "    }\n",
       "\n",
       "    .dataframe tbody tr th {\n",
       "        vertical-align: top;\n",
       "    }\n",
       "\n",
       "    .dataframe thead th {\n",
       "        text-align: right;\n",
       "    }\n",
       "</style>\n",
       "<table border=\"1\" class=\"dataframe\">\n",
       "  <thead>\n",
       "    <tr style=\"text-align: right;\">\n",
       "      <th></th>\n",
       "      <th>semana</th>\n",
       "      <th>pdv</th>\n",
       "      <th>produto</th>\n",
       "      <th>quantidade</th>\n",
       "    </tr>\n",
       "  </thead>\n",
       "  <tbody>\n",
       "    <tr>\n",
       "      <th>69</th>\n",
       "      <td>1</td>\n",
       "      <td>1001371918471115422</td>\n",
       "      <td>2239307647969388381</td>\n",
       "      <td>4</td>\n",
       "    </tr>\n",
       "    <tr>\n",
       "      <th>76</th>\n",
       "      <td>1</td>\n",
       "      <td>1001371918471115422</td>\n",
       "      <td>2429796414123983930</td>\n",
       "      <td>1</td>\n",
       "    </tr>\n",
       "    <tr>\n",
       "      <th>88</th>\n",
       "      <td>1</td>\n",
       "      <td>1001371918471115422</td>\n",
       "      <td>3018796109558820617</td>\n",
       "      <td>1</td>\n",
       "    </tr>\n",
       "    <tr>\n",
       "      <th>99</th>\n",
       "      <td>1</td>\n",
       "      <td>1001371918471115422</td>\n",
       "      <td>3435249648591979862</td>\n",
       "      <td>1</td>\n",
       "    </tr>\n",
       "    <tr>\n",
       "      <th>103</th>\n",
       "      <td>1</td>\n",
       "      <td>1001371918471115422</td>\n",
       "      <td>3516587220187345473</td>\n",
       "      <td>1</td>\n",
       "    </tr>\n",
       "    <tr>\n",
       "      <th>107</th>\n",
       "      <td>1</td>\n",
       "      <td>1001371918471115422</td>\n",
       "      <td>3726736891643803768</td>\n",
       "      <td>1</td>\n",
       "    </tr>\n",
       "    <tr>\n",
       "      <th>112</th>\n",
       "      <td>1</td>\n",
       "      <td>1001371918471115422</td>\n",
       "      <td>3894706280449257667</td>\n",
       "      <td>7</td>\n",
       "    </tr>\n",
       "    <tr>\n",
       "      <th>133</th>\n",
       "      <td>1</td>\n",
       "      <td>1001371918471115422</td>\n",
       "      <td>4570988632387137438</td>\n",
       "      <td>4</td>\n",
       "    </tr>\n",
       "    <tr>\n",
       "      <th>139</th>\n",
       "      <td>1</td>\n",
       "      <td>1001371918471115422</td>\n",
       "      <td>4913890621258584650</td>\n",
       "      <td>1</td>\n",
       "    </tr>\n",
       "    <tr>\n",
       "      <th>151</th>\n",
       "      <td>1</td>\n",
       "      <td>1001371918471115422</td>\n",
       "      <td>5620797377392348813</td>\n",
       "      <td>1</td>\n",
       "    </tr>\n",
       "  </tbody>\n",
       "</table>\n",
       "</div>"
      ],
      "text/plain": [
       "     semana                  pdv              produto  quantidade\n",
       "69        1  1001371918471115422  2239307647969388381           4\n",
       "76        1  1001371918471115422  2429796414123983930           1\n",
       "88        1  1001371918471115422  3018796109558820617           1\n",
       "99        1  1001371918471115422  3435249648591979862           1\n",
       "103       1  1001371918471115422  3516587220187345473           1\n",
       "107       1  1001371918471115422  3726736891643803768           1\n",
       "112       1  1001371918471115422  3894706280449257667           7\n",
       "133       1  1001371918471115422  4570988632387137438           4\n",
       "139       1  1001371918471115422  4913890621258584650           1\n",
       "151       1  1001371918471115422  5620797377392348813           1"
      ]
     },
     "metadata": {},
     "output_type": "display_data"
    }
   ],
   "source": [
    "print(f\"🔄 Carregando o arquivo Parquet de previsões completas...\")\n",
    "if not os.path.exists(input_parquet_path):\n",
    "    print(f\"❌ Erro: Arquivo '{input_parquet_path}' não encontrado.\")\n",
    "    print(\"Certifique-se de executar o notebook '04-Final-Pipeline.ipynb' primeiro.\")\n",
    "else:\n",
    "    # Carregar o DataFrame\n",
    "    full_predictions_df = pd.read_parquet(input_parquet_path)\n",
    "    print(f\"✅ Arquivo carregado com sucesso. Shape original: {full_predictions_df.shape}\")\n",
    "    \n",
    "    # --- PASSO 1: Garantir que os nomes das colunas estão corretos ---\n",
    "    rename_map = {\n",
    "        'pdv_id': 'pdv',\n",
    "        'produto_id': 'produto'\n",
    "    }\n",
    "    columns_to_rename = [col for col in rename_map if col in full_predictions_df.columns]\n",
    "    if columns_to_rename:\n",
    "        print(f\"Renomeando colunas: {columns_to_rename}\")\n",
    "        full_predictions_df.rename(columns=rename_map, inplace=True)\n",
    "    \n",
    "    # --- PASSO 2: Filtrar as linhas com previsão de quantidade zero ---\n",
    "    print(f\"\\n🔧 Filtrando para manter apenas previsões com 'quantidade' > 0...\")\n",
    "    filtered_df = full_predictions_df[full_predictions_df['quantidade'] > 0].copy()\n",
    "    \n",
    "    linhas_removidas = len(full_predictions_df) - len(filtered_df)\n",
    "    print(f\"   • Linhas removidas: {linhas_removidas:,}\")\n",
    "    print(f\"   • Shape final: {filtered_df.shape}\")\n",
    "    \n",
    "    # --- PASSO 3: Validar os tipos de dados ---\n",
    "    print(\"\\n✔️ Validando e ajustando os tipos de dados para inteiros...\")\n",
    "    filtered_df['semana'] = filtered_df['semana'].astype(int)\n",
    "    filtered_df['pdv'] = filtered_df['pdv'].astype(int)\n",
    "    filtered_df['produto'] = filtered_df['produto'].astype(int)\n",
    "    filtered_df['quantidade'] = filtered_df['quantidade'].astype(int)\n",
    "\n",
    "    # --- PASSO 4: Salvar os arquivos finais ---\n",
    "    print(f\"\\n💾 Salvando arquivos finais...\")\n",
    "    \n",
    "    # Salvar em CSV\n",
    "    filtered_df.to_csv(\n",
    "        output_csv_path,\n",
    "        sep=';',           \n",
    "        index=False,       \n",
    "        encoding='utf-8'   \n",
    "    )\n",
    "    print(f\"   • Arquivo CSV salvo em '{output_csv_path}'\")\n",
    "    \n",
    "    # Salvar em Parquet\n",
    "    filtered_df.to_parquet(output_parquet_path, index=False)\n",
    "    print(f\"   • Arquivo Parquet salvo em '{output_parquet_path}'\")\n",
    "    \n",
    "    print(\"\\n🎉 Processo concluído! Os arquivos estão prontos para serem enviados.\")\n",
    "    \n",
    "    # --- PASSO 5: Exibir um preview do arquivo final ---\n",
    "    print(\"\\n👀 Preview do DataFrame final:\")\n",
    "    display(filtered_df.head(10))"
   ]
  }
 ],
 "metadata": {
  "kernelspec": {
   "display_name": "Python 3",
   "language": "python",
   "name": "python3"
  },
  "language_info": {
   "codemirror_mode": {
    "name": "ipython",
    "version": 3
   },
   "file_extension": ".py",
   "mimetype": "text/x-python",
   "name": "python",
   "nbconvert_exporter": "python",
   "pygments_lexer": "ipython3",
   "version": "3.9.12"
  }
 },
 "nbformat": 4,
 "nbformat_minor": 5
}
