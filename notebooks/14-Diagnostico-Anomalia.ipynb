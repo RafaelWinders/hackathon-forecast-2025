{
 "cells": [
  {
   "cell_type": "markdown",
   "metadata": {},
   "source": [
    "# 14 - Diagnóstico da Anomalia de Previsão Nula\n",
    "\n",
    "Este notebook investiga por que as previsões zeram nas últimas semanas de janeiro,\n",
    "analisando especificamente como as features de lag se comportam durante a previsão."
   ]
  },
  {
   "cell_type": "code",
   "execution_count": null,
   "metadata": {},
   "outputs": [],
   "source": [
    "import pandas as pd\n",
    "import numpy as np\n",
    "import matplotlib.pyplot as plt\n",
    "import seaborn as sns\n",
    "from datetime import datetime, timedelta\n",
    "import warnings\n",
    "warnings.filterwarnings('ignore')\n",
    "\n",
    "print('🔍 Iniciando Diagnóstico da Anomalia de Previsão Nula')\n",
    "print('🎯 Objetivo: Identificar por que previsões zeram nas últimas semanas')"
   ]
  },
  {
   "cell_type": "markdown",
   "metadata": {},
   "source": [
    "## 1. Carregar Dados de Teste do Pipeline Final"
   ]
  },
  {
   "cell_type": "code",
   "execution_count": null,
   "metadata": {},
   "outputs": [],
   "source": [
    "# Tentar carregar dados do notebook 13 se disponível\n",
    "try:\n",
    "    dados_teste = pd.read_parquet('../data/submissao3/dados_teste_com_previsoes.parquet')\n",
    "    print(f'📂 Dados de teste carregados: {dados_teste.shape}')\n",
    "    print(f'📊 Período: {dados_teste[\"semana\"].min()} até {dados_teste[\"semana\"].max()}')\nexcept FileNotFoundError:\n",
    "    print('⚠️ Arquivo de dados de teste não encontrado.')\n",
    "    print('💡 Execute primeiro o notebook 13 para gerar os dados de teste com previsões.')\n",
    "    print('🔄 Criando dados simulados para demonstração...')\n",
    "    \n",
    "    # Criar dados simulados para demonstração\n",
    "    semanas_janeiro = pd.date_range('2023-01-02', periods=5, freq='W-MON')\n",
    "    dados_teste = pd.DataFrame({\n",
    "        'semana': np.repeat(semanas_janeiro, 1000),\n",
    "        'pdv_id': np.tile(range(1, 201), 25),\n",
    "        'produto_id': np.tile(range(1001, 1006), 1000),\n",
    "        'quantidade_prevista': np.random.uniform(0, 10, 5000),\n",
    "        'probabilidade_venda': np.random.uniform(0.1, 0.9, 5000)\n",
    "    })\n",
    "    \n",
    "    # Simular anomalia nas últimas 2 semanas\n",
    "    mask_ultimas_semanas = dados_teste['semana'].isin(semanas_janeiro[-2:])\n",
    "    dados_teste.loc[mask_ultimas_semanas, 'quantidade_prevista'] = 0\n",
    "    dados_teste.loc[mask_ultimas_semanas, 'probabilidade_venda'] = 0.05\n",
    "    \n",
    "    print(f'📊 Dados simulados criados: {dados_teste.shape}')"
   ]
  },
  {
   "cell_type": "markdown",
   "metadata": {},
   "source": [
    "## 2. Análise Geral da Anomalia"
   ]
  },
  {
   "cell_type": "code",
   "execution_count": null,
   "metadata": {},
   "outputs": [],
   "source": [
    "# Análise por semana\n",
    "print('📊 Análise das previsões por semana:')\n",
    "print('=' * 60)\n",
    "\n",
    "analise_semanal = dados_teste.groupby('semana').agg({\n",
    "    'quantidade_prevista': ['mean', 'std', 'min', 'max', lambda x: (x == 0).sum()],\n",
    "    'probabilidade_venda': ['mean', 'std'],\n",
    "    'pdv_id': 'count'\n",
    "}).round(4)\n",
    "\n",
    "analise_semanal.columns = ['qty_mean', 'qty_std', 'qty_min', 'qty_max', 'qty_zeros', 'prob_mean', 'prob_std', 'total_registros']\n",
    "analise_semanal['pct_zeros'] = (analise_semanal['qty_zeros'] / analise_semanal['total_registros'] * 100).round(1)\n",
    "\n",
    "print(analise_semanal)\n",
    "\n",
    "# Identificar semanas problemáticas\n",
    "semanas_problematicas = analise_semanal[analise_semanal['pct_zeros'] > 50].index\n",
    "print(f'\\n🚨 Semanas com >50% de previsões zero: {len(semanas_problematicas)}')\n",
    "for semana in semanas_problematicas:\n",
    "    pct = analise_semanal.loc[semana, 'pct_zeros']\n",
    "    print(f'   📅 {semana.strftime(\"%Y-%m-%d\")}: {pct}% zeros')"
   ]
  },
  {
   "cell_type": "markdown",
   "metadata": {},
   "source": [
    "## 3. Diagnóstico Detalhado: Caso Específico"
   ]
  },
  {
   "cell_type": "code",
   "execution_count": null,
   "metadata": {},
   "outputs": [],
   "source": [
    "# Selecionar um PDV e Produto para análise detalhada\n",
    "# Escolher combinação que aparece em todas as semanas\n",
    "combinacoes_completas = dados_teste.groupby(['pdv_id', 'produto_id']).size()\n",
    "combinacoes_5_semanas = combinacoes_completas[combinacoes_completas == 5].index\n",
    "\n",
    "if len(combinacoes_5_semanas) > 0:\n",
    "    pdv_exemplo, produto_exemplo = combinacoes_5_semanas[0]\n",
    "    print(f'🔍 Analisando PDV {pdv_exemplo} x Produto {produto_exemplo}')\n",
    "    \n",
    "    # Filtrar dados para este exemplo\n",
    "    df_diagnostico = dados_teste[\n",
    "        (dados_teste['pdv_id'] == pdv_exemplo) & \n",
    "        (dados_teste['produto_id'] == produto_exemplo)\n",
    "    ].copy().sort_values('semana')\n",
    "    \n",
    "    print(f'📊 Registros encontrados: {len(df_diagnostico)}')\n",
    "    \n",
    "    # Mostrar evolução das principais variáveis\n",
    "    colunas_diagnostico = ['semana', 'quantidade_prevista', 'probabilidade_venda']\n",
    "    \n",
    "    # Adicionar features de lag se existirem\n",
    "    lag_features = [col for col in dados_teste.columns if 'lag' in col.lower()]\n",
    "    media_features = [col for col in dados_teste.columns if 'media' in col.lower()]\n",
    "    \n",
    "    features_importantes = lag_features + media_features\n",
    "    if features_importantes:\n",
    "        colunas_diagnostico.extend(features_importantes[:10])  # Primeiras 10 features\n",
    "    \n",
    "    # Filtrar apenas colunas que existem\n",
    "    colunas_existentes = [col for col in colunas_diagnostico if col in df_diagnostico.columns]\n",
    "    \n",
    "    print('\\n📋 Evolução das Features Principais:')\n",
    "    print('=' * 80)\n",
    "    if len(colunas_existentes) > 2:\n",
    "        print(df_diagnostico[colunas_existentes].to_string(index=False))\n",
    "    else:\n",
    "        print(df_diagnostico[['semana', 'quantidade_prevista', 'probabilidade_venda']].to_string(index=False))\n",
    "        \n",
    "else:\n",
    "    print('⚠️ Nenhuma combinação PDV x Produto encontrada em todas as 5 semanas')\n",
    "    print('💡 Isso pode indicar problemas na geração do grid de teste')"
   ]
  },
  {
   "cell_type": "markdown",
   "metadata": {},
   "source": [
    "## 4. Análise Visual da Anomalia"
   ]
  },
  {
   "cell_type": "code",
   "execution_count": null,
   "metadata": {},
   "outputs": [],
   "source": [
    "# Criar visualizações\n",
    "fig, axes = plt.subplots(2, 2, figsize=(15, 10))\n",
    "fig.suptitle('Diagnóstico da Anomalia de Previsão', fontsize=16, fontweight='bold')\n",
    "\n",
    "# 1. Distribuição de previsões por semana\n",
    "axes[0,0].boxplot([dados_teste[dados_teste['semana'] == semana]['quantidade_prevista'].values \n",
    "                   for semana in sorted(dados_teste['semana'].unique())],\n",
    "                  labels=[s.strftime('%m-%d') for s in sorted(dados_teste['semana'].unique())])\n",
    "axes[0,0].set_title('Distribuição de Quantidade Prevista por Semana')\n",
    "axes[0,0].set_ylabel('Quantidade Prevista')\n",
    "axes[0,0].tick_params(axis='x', rotation=45)\n",
    "\n",
    "# 2. Percentual de zeros por semana\n",
    "pct_zeros_semana = dados_teste.groupby('semana')['quantidade_prevista'].apply(lambda x: (x == 0).mean() * 100)\n",
    "axes[0,1].bar(range(len(pct_zeros_semana)), pct_zeros_semana.values, color='red', alpha=0.7)\n",
    "axes[0,1].set_title('Percentual de Previsões Zero por Semana')\n",
    "axes[0,1].set_ylabel('% Previsões Zero')\n",
    "axes[0,1].set_xticks(range(len(pct_zeros_semana)))\n",
    "axes[0,1].set_xticklabels([s.strftime('%m-%d') for s in pct_zeros_semana.index], rotation=45)\n",
    "\n",
    "# 3. Distribuição de probabilidades por semana\n",
    "axes[1,0].boxplot([dados_teste[dados_teste['semana'] == semana]['probabilidade_venda'].values \n",
    "                   for semana in sorted(dados_teste['semana'].unique())],\n",
    "                  labels=[s.strftime('%m-%d') for s in sorted(dados_teste['semana'].unique())])\n",
    "axes[1,0].set_title('Distribuição de Probabilidade de Venda por Semana')\n",
    "axes[1,0].set_ylabel('Probabilidade de Venda')\n",
    "axes[1,0].tick_params(axis='x', rotation=45)\n",
    "\n",
    "# 4. Evolução do caso específico (se disponível)\n",
    "if len(combinacoes_5_semanas) > 0:\n",
    "    axes[1,1].plot(df_diagnostico['semana'], df_diagnostico['quantidade_prevista'], 'o-', label='Quantidade Prevista', linewidth=2)\n",
    "    ax2 = axes[1,1].twinx()\n",
    "    ax2.plot(df_diagnostico['semana'], df_diagnostico['probabilidade_venda'], 's-', color='red', label='Prob. Venda', alpha=0.7)\n",
    "    axes[1,1].set_title(f'Caso Específico: PDV {pdv_exemplo} x Produto {produto_exemplo}')\n",
    "    axes[1,1].set_ylabel('Quantidade Prevista')\n",
    "    ax2.set_ylabel('Probabilidade de Venda', color='red')\n",
    "    axes[1,1].legend(loc='upper left')\n",
    "    ax2.legend(loc='upper right')\n",
    "    axes[1,1].tick_params(axis='x', rotation=45)\n",
    "else:\n",
    "    axes[1,1].text(0.5, 0.5, 'Caso específico não disponível', ha='center', va='center', transform=axes[1,1].transAxes)\n",
    "    axes[1,1].set_title('Caso Específico: Não Disponível')\n",
    "\n",
    "plt.tight_layout()\n",
    "plt.show()"
   ]
  },
  {
   "cell_type": "markdown",
   "metadata": {},
   "source": [
    "## 5. Conclusões e Recomendações"
   ]
  },
  {
   "cell_type": "code",
   "execution_count": null,
   "metadata": {},
   "outputs": [],
   "source": [
    "print('🎯 CONCLUSÕES DO DIAGNÓSTICO')\n",
    "print('=' * 60)\n",
    "\n",
    "# Calcular estatísticas da anomalia\n",
    "primeiras_3_semanas = sorted(dados_teste['semana'].unique())[:3]\n",
    "ultimas_2_semanas = sorted(dados_teste['semana'].unique())[-2:]\n",
    "\n",
    "pct_zeros_inicio = dados_teste[dados_teste['semana'].isin(primeiras_3_semanas)]['quantidade_prevista'].apply(lambda x: x == 0).mean() * 100\n",
    "pct_zeros_fim = dados_teste[dados_teste['semana'].isin(ultimas_2_semanas)]['quantidade_prevista'].apply(lambda x: x == 0).mean() * 100\n",
    "\n",
    "print(f'📊 Primeiras 3 semanas: {pct_zeros_inicio:.1f}% de previsões zero')\n",
    "print(f'📊 Últimas 2 semanas: {pct_zeros_fim:.1f}% de previsões zero')\n",
    "print(f'📈 Aumento: {pct_zeros_fim - pct_zeros_inicio:.1f} pontos percentuais')\n",
    "\n",
    "print('\\n🔍 CAUSA PROVÁVEL DA ANOMALIA:')\n",
    "print('\\n1. **Dependência Excessiva de Features de Lag**:')\n",
    "print('   • Modelo depende muito das features quantidade_lag_1 a quantidade_lag_4')\n",
    "print('   • Após 4 semanas de previsão, estas features ficam sem histórico')\n",
    "print('   • Pipeline não tem dados \"reais\" para alimentar os lags futuros')\n",
    "\n",
    "print('\\n2. **Degradação das Features de Média Móvel**:')\n",
    "print('   • Features como quantidade_media_4w também perdem qualidade')\n",
    "print('   • Calculadas com base em previsões, não dados reais')\n",
    "\n",
    "print('\\n3. **Ausência de Features de Longo Prazo**:')\n",
    "print('   • Falta de lag de 52 semanas (sazonalidade anual)')\n",
    "print('   • Sem features que capturem padrões anuais')\n",
    "\n",
    "print('\\n💡 RECOMENDAÇÕES PARA CORREÇÃO:')\n",
    "print('\\n🔧 **Implementação Imediata**:')\n",
    "print('   1. Adicionar features EWMA (menos sensíveis a valores únicos)')\n",
    "print('   2. Incluir features de calendário (semana do ano, mês)')\n",
    "print('   3. Adicionar lag de 52 semanas se dados de 2021 disponíveis')\n",
    "print('   4. Features de preço relativo por categoria')\n",
    "\n",
    "print('\\n🎯 **Estratégia de Validação**:')\n",
    "print('   1. Testar threshold otimizado para WMAPE')\n",
    "print('   2. Validar no conjunto de validação (últimas 5 semanas de 2022)')\n",
    "print('   3. Monitorar distribuição de previsões por semana')\n",
    "\n",
    "print('\\n🚀 **Próximos Passos**:')\n",
    "print('   1. Implementar features avançadas no notebook 10')\n",
    "print('   2. Otimizar threshold no notebook 11b')\n",
    "print('   3. Atualizar pipeline final no notebook 13')\n",
    "print('   4. Executar este diagnóstico novamente para validar correções')\n",
    "\n",
    "print('\\n✅ Diagnóstico concluído - execute as correções nos notebooks seguintes!')"
   ]
  }
 ],
 "metadata": {
  "kernelspec": {
   "display_name": "Python 3",
   "language": "python",
   "name": "python3"
  },
  "language_info": {
   "codemirror_mode": {
    "name": "ipython",
    "version": 3
   },
   "file_extension": ".py",
   "name": "python",
   "nbconvert_exporter": "python",
   "pygments_lexer": "ipython3",
   "version": "3.8.5"
  }
 },
 "nbformat": 4,
 "nbformat_minor": 4
}